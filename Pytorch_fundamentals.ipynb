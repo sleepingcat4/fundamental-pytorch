{
  "nbformat": 4,
  "nbformat_minor": 0,
  "metadata": {
    "colab": {
      "provenance": []
    },
    "kernelspec": {
      "name": "python3",
      "display_name": "Python 3"
    },
    "language_info": {
      "name": "python"
    }
  },
  "cells": [
    {
      "cell_type": "code",
      "execution_count": 1,
      "metadata": {
        "colab": {
          "base_uri": "https://localhost:8080/",
          "height": 36
        },
        "id": "BQLJZ3Qqcb2R",
        "outputId": "0e9be3be-ec7f-44c6-df33-eb82eca16feb"
      },
      "outputs": [
        {
          "output_type": "execute_result",
          "data": {
            "text/plain": [
              "'2.0.1+cu118'"
            ],
            "application/vnd.google.colaboratory.intrinsic+json": {
              "type": "string"
            }
          },
          "metadata": {},
          "execution_count": 1
        }
      ],
      "source": [
        "import torch\n",
        "torch.__version__"
      ]
    },
    {
      "cell_type": "markdown",
      "source": [
        "**Introduction to tensors**"
      ],
      "metadata": {
        "id": "CqunuHcK4-CO"
      }
    },
    {
      "cell_type": "markdown",
      "source": [
        "Tensors are fundamental buolding blocks in Machine Learning and their job is to represent data in numerical way. We can represent an image in tensor ```[colour_channel, height, width]``` Here we have 3D tensor"
      ],
      "metadata": {
        "id": "gQw0xaLH5AxW"
      }
    },
    {
      "cell_type": "markdown",
      "source": [
        "First, we'll create scalar, which is a 0D tensor"
      ],
      "metadata": {
        "id": "BfFj4zSl5syp"
      }
    },
    {
      "cell_type": "code",
      "source": [
        "#Scalar\n",
        "scalar = torch.tensor(7)\n",
        "scalar"
      ],
      "metadata": {
        "colab": {
          "base_uri": "https://localhost:8080/"
        },
        "id": "YQaPixKG4lUH",
        "outputId": "bd041392-ec83-439a-bc9e-b2d5d3477230"
      },
      "execution_count": 3,
      "outputs": [
        {
          "output_type": "execute_result",
          "data": {
            "text/plain": [
              "tensor(7)"
            ]
          },
          "metadata": {},
          "execution_count": 3
        }
      ]
    },
    {
      "cell_type": "markdown",
      "source": [
        "although scalar is a number, it is a ```tensor.tensor```"
      ],
      "metadata": {
        "id": "y4JA2FUN6AWJ"
      }
    },
    {
      "cell_type": "markdown",
      "source": [
        "checking tensor dim with ```ndim```"
      ],
      "metadata": {
        "id": "GcyW4LMA6I2F"
      }
    },
    {
      "cell_type": "code",
      "source": [
        "scalar.ndim"
      ],
      "metadata": {
        "colab": {
          "base_uri": "https://localhost:8080/"
        },
        "id": "lt1XUS0C54q_",
        "outputId": "dd82b2bf-e753-4776-ec80-a57690739e49"
      },
      "execution_count": 5,
      "outputs": [
        {
          "output_type": "execute_result",
          "data": {
            "text/plain": [
              "0"
            ]
          },
          "metadata": {},
          "execution_count": 5
        }
      ]
    },
    {
      "cell_type": "markdown",
      "source": [
        "What if we want to retrive the number?"
      ],
      "metadata": {
        "id": "qlmR2lDv6YP3"
      }
    },
    {
      "cell_type": "code",
      "source": [
        "# use item() attribute\n",
        "scalar.item()"
      ],
      "metadata": {
        "colab": {
          "base_uri": "https://localhost:8080/"
        },
        "id": "oNpTFiAZ6N37",
        "outputId": "5c7988c5-84be-492b-c93f-a087e8b0db7e"
      },
      "execution_count": 7,
      "outputs": [
        {
          "output_type": "execute_result",
          "data": {
            "text/plain": [
              "7"
            ]
          },
          "metadata": {},
          "execution_count": 7
        }
      ]
    },
    {
      "cell_type": "markdown",
      "source": [
        "**Let's move on to vectors**"
      ],
      "metadata": {
        "id": "Uq-p415O6lHr"
      }
    },
    {
      "cell_type": "code",
      "source": [
        "vector = torch.tensor([7, 7])\n",
        "vector"
      ],
      "metadata": {
        "colab": {
          "base_uri": "https://localhost:8080/"
        },
        "id": "Xs6YJvOb6gqb",
        "outputId": "a1670583-3790-4290-bf7a-6c8bb05dd230"
      },
      "execution_count": 9,
      "outputs": [
        {
          "output_type": "execute_result",
          "data": {
            "text/plain": [
              "tensor([7, 7])"
            ]
          },
          "metadata": {},
          "execution_count": 9
        }
      ]
    },
    {
      "cell_type": "code",
      "source": [
        "vector.ndim"
      ],
      "metadata": {
        "colab": {
          "base_uri": "https://localhost:8080/"
        },
        "id": "GW1c1iZg6zZS",
        "outputId": "35939f12-21c7-4820-a1e2-fa604b25b625"
      },
      "execution_count": 10,
      "outputs": [
        {
          "output_type": "execute_result",
          "data": {
            "text/plain": [
              "1"
            ]
          },
          "metadata": {},
          "execution_count": 10
        }
      ]
    },
    {
      "cell_type": "markdown",
      "source": [
        "that's strange 1D? why? Balony! haha"
      ],
      "metadata": {
        "id": "at3T04Ke7Sk1"
      }
    },
    {
      "cell_type": "markdown",
      "source": [
        "There's a trick through which we can determine the dim of tensors in pytorch.\n",
        "\n",
        "You can tell the number of dimensions a tensor in PyTorch has by the number of square brackets on the outside ```([)``` and you only need to count one side."
      ],
      "metadata": {
        "id": "sjsKIWeJ7Zk8"
      }
    },
    {
      "cell_type": "markdown",
      "source": [
        "Another important concept is ```shape``` attribute. The shape tells how the elements inside them are arranged."
      ],
      "metadata": {
        "id": "oHg3PTQl9-89"
      }
    },
    {
      "cell_type": "code",
      "source": [
        "vector.shape"
      ],
      "metadata": {
        "colab": {
          "base_uri": "https://localhost:8080/"
        },
        "id": "eIqImoKc7Y5-",
        "outputId": "c057abb9-ec8a-40f0-c2d6-82561428ab91"
      },
      "execution_count": 11,
      "outputs": [
        {
          "output_type": "execute_result",
          "data": {
            "text/plain": [
              "torch.Size([2])"
            ]
          },
          "metadata": {},
          "execution_count": 11
        }
      ]
    },
    {
      "cell_type": "markdown",
      "source": [
        "The above returns ```torch.Size([2])``` which means our vector has a shape of [2]. This is because of the two elements we placed inside the square brackets ([7, 7])."
      ],
      "metadata": {
        "id": "5xcyfur7_Sh-"
      }
    },
    {
      "cell_type": "markdown",
      "source": [
        "Let's now see matrix"
      ],
      "metadata": {
        "id": "lsNNKK3IAHz8"
      }
    },
    {
      "cell_type": "code",
      "source": [
        "MATRIX = torch.tensor([[7,8],\n",
        "                       [9, 10]])\n",
        "MATRIX"
      ],
      "metadata": {
        "colab": {
          "base_uri": "https://localhost:8080/"
        },
        "id": "56Tgoq6m62_O",
        "outputId": "33de6969-104b-4663-a96c-1c335a6749a2"
      },
      "execution_count": 14,
      "outputs": [
        {
          "output_type": "execute_result",
          "data": {
            "text/plain": [
              "tensor([[ 7,  8],\n",
              "        [ 9, 10]])"
            ]
          },
          "metadata": {},
          "execution_count": 14
        }
      ]
    },
    {
      "cell_type": "code",
      "source": [
        "MATRIX.ndim"
      ],
      "metadata": {
        "colab": {
          "base_uri": "https://localhost:8080/"
        },
        "id": "n2GTz1TgBF-K",
        "outputId": "f4f163f2-45ff-453d-9e00-cc8f200d4a2c"
      },
      "execution_count": 15,
      "outputs": [
        {
          "output_type": "execute_result",
          "data": {
            "text/plain": [
              "2"
            ]
          },
          "metadata": {},
          "execution_count": 15
        }
      ]
    },
    {
      "cell_type": "code",
      "source": [
        "MATRIX.shape"
      ],
      "metadata": {
        "colab": {
          "base_uri": "https://localhost:8080/"
        },
        "id": "SS7WguEZBWE9",
        "outputId": "47b3f50c-9f29-4312-9c1c-1ff7dbcfc04f"
      },
      "execution_count": 16,
      "outputs": [
        {
          "output_type": "execute_result",
          "data": {
            "text/plain": [
              "torch.Size([2, 2])"
            ]
          },
          "metadata": {},
          "execution_count": 16
        }
      ]
    },
    {
      "cell_type": "markdown",
      "source": [
        "\n",
        "We get the output ```torch.Size([2, 2])``` because MATRIX is two elements deep and two elements wide."
      ],
      "metadata": {
        "id": "lKuY_Qx3Bv_P"
      }
    },
    {
      "cell_type": "markdown",
      "source": [
        "Let's create a **tensor**"
      ],
      "metadata": {
        "id": "RbRCxEY4CZDr"
      }
    },
    {
      "cell_type": "code",
      "source": [
        "# Tensor\n",
        "TENSOR = torch.tensor([[[1, 2, 3],\n",
        "                        [3, 6, 9],\n",
        "                        [2, 4, 5]]])\n",
        "TENSOR"
      ],
      "metadata": {
        "colab": {
          "base_uri": "https://localhost:8080/"
        },
        "id": "CGbG_-X_Buj9",
        "outputId": "43c4b9bc-4d05-47fe-a563-1955ce2068cd"
      },
      "execution_count": 18,
      "outputs": [
        {
          "output_type": "execute_result",
          "data": {
            "text/plain": [
              "tensor([[[1, 2, 3],\n",
              "         [3, 6, 9],\n",
              "         [2, 4, 5]]])"
            ]
          },
          "metadata": {},
          "execution_count": 18
        }
      ]
    },
    {
      "cell_type": "markdown",
      "source": [
        "Tensor can be anything. Not just random numbers\n"
      ],
      "metadata": {
        "id": "I5LUZSGqC4JV"
      }
    },
    {
      "cell_type": "code",
      "source": [
        "# Check number of dimensions for TENSOR\n",
        "TENSOR.ndim"
      ],
      "metadata": {
        "colab": {
          "base_uri": "https://localhost:8080/"
        },
        "id": "rRYrZFqQBZlS",
        "outputId": "db5b9fe5-7957-4a2d-ad79-715064a8476f"
      },
      "execution_count": 19,
      "outputs": [
        {
          "output_type": "execute_result",
          "data": {
            "text/plain": [
              "3"
            ]
          },
          "metadata": {},
          "execution_count": 19
        }
      ]
    },
    {
      "cell_type": "code",
      "source": [
        "# Check shape of TENSOR\n",
        "TENSOR.shape"
      ],
      "metadata": {
        "colab": {
          "base_uri": "https://localhost:8080/"
        },
        "id": "PJbnRnRQDKa8",
        "outputId": "082daa63-9fe9-4027-ba4c-53f60cdaab9b"
      },
      "execution_count": 20,
      "outputs": [
        {
          "output_type": "execute_result",
          "data": {
            "text/plain": [
              "torch.Size([1, 3, 3])"
            ]
          },
          "metadata": {},
          "execution_count": 20
        }
      ]
    },
    {
      "cell_type": "markdown",
      "source": [
        "\n",
        "Alright, it outputs ```torch.Size([1, 3, 3])```.\n",
        "\n",
        "The dimensions go outer to inner.\n",
        "\n",
        "That means there's 1 dimension of 3 by 3."
      ],
      "metadata": {
        "id": "JzdjjacOE01h"
      }
    },
    {
      "cell_type": "markdown",
      "source": [
        "**Note:** You might've noticed me using lowercase letters for scalar and vector and uppercase letters for MATRIX and TENSOR. This was on purpose. In practice, you'll often see scalars and vectors denoted as lowercase letters such as y or a. And matrices and tensors denoted as uppercase letters such as X or W.\n",
        "\n",
        "You also might notice the names martrix and tensor used interchangably. This is common. Since in PyTorch you're often dealing with torch.Tensors (hence the tensor name), however, the shape and dimensions of what's inside will dictate what it actually is."
      ],
      "metadata": {
        "id": "VgEYcT12Fkt1"
      }
    },
    {
      "cell_type": "markdown",
      "source": [
        "**random numbers/tensors**\n",
        "To do this we'll use ```torch.rand()`` function"
      ],
      "metadata": {
        "id": "3dCjThTYF9H6"
      }
    },
    {
      "cell_type": "code",
      "source": [
        "random_tensors = torch.rand(size=(3,4))\n",
        "random_tensors, random_tensors.dtype"
      ],
      "metadata": {
        "colab": {
          "base_uri": "https://localhost:8080/"
        },
        "id": "X1p2n_8rDpii",
        "outputId": "7a93beb3-ce1b-403e-dc3b-ffda8e6f8437"
      },
      "execution_count": 23,
      "outputs": [
        {
          "output_type": "execute_result",
          "data": {
            "text/plain": [
              "(tensor([[0.8173, 0.9580, 0.7967, 0.7441],\n",
              "         [0.8998, 0.1058, 0.4690, 0.5900],\n",
              "         [0.5560, 0.5251, 0.3669, 0.8742]]),\n",
              " torch.float32)"
            ]
          },
          "metadata": {},
          "execution_count": 23
        }
      ]
    },
    {
      "cell_type": "code",
      "source": [
        "# Create a random tensor of size (224, 224, 3)\n",
        "random_image_size_tensor = torch.rand(size=(224, 224, 3))\n",
        "random_image_size_tensor.shape, random_image_size_tensor.ndim"
      ],
      "metadata": {
        "colab": {
          "base_uri": "https://localhost:8080/"
        },
        "id": "pXLlA8r0GZPs",
        "outputId": "7c0b7a62-92df-434b-f077-d433cf320f30"
      },
      "execution_count": 24,
      "outputs": [
        {
          "output_type": "execute_result",
          "data": {
            "text/plain": [
              "(torch.Size([224, 224, 3]), 3)"
            ]
          },
          "metadata": {},
          "execution_count": 24
        }
      ]
    },
    {
      "cell_type": "markdown",
      "source": [
        "**Zeros and ones**\n",
        "\n",
        "Sometimes while working with masking models, mostly in NLP, you want to mask your data with zeors or ones so you model don't learn them or it can be for fixing the length/interporlation"
      ],
      "metadata": {
        "id": "YQ45vRTUGqVh"
      }
    },
    {
      "cell_type": "markdown",
      "source": [
        "we use ```torch.zeros()```"
      ],
      "metadata": {
        "id": "alRShvqcG-AT"
      }
    },
    {
      "cell_type": "code",
      "source": [
        "# Create a tensor of all zeros\n",
        "zeros = torch.zeros(size=(3, 4))\n",
        "zeros, zeros.dtype"
      ],
      "metadata": {
        "colab": {
          "base_uri": "https://localhost:8080/"
        },
        "id": "ntz_a6FlGk29",
        "outputId": "c79f524c-eca3-4489-9ce1-51452371b320"
      },
      "execution_count": 25,
      "outputs": [
        {
          "output_type": "execute_result",
          "data": {
            "text/plain": [
              "(tensor([[0., 0., 0., 0.],\n",
              "         [0., 0., 0., 0.],\n",
              "         [0., 0., 0., 0.]]),\n",
              " torch.float32)"
            ]
          },
          "metadata": {},
          "execution_count": 25
        }
      ]
    },
    {
      "cell_type": "markdown",
      "source": [
        "for ones ```torch.ones()```"
      ],
      "metadata": {
        "id": "lMew_QjHHFl_"
      }
    },
    {
      "cell_type": "code",
      "source": [
        "# Create a tensor of all ones\n",
        "ones = torch.ones(size=(3, 4))\n",
        "ones, ones.dtype"
      ],
      "metadata": {
        "colab": {
          "base_uri": "https://localhost:8080/"
        },
        "id": "X8OdP-6KG6bT",
        "outputId": "55721cc1-65f6-418a-9604-63f7700f2778"
      },
      "execution_count": 26,
      "outputs": [
        {
          "output_type": "execute_result",
          "data": {
            "text/plain": [
              "(tensor([[1., 1., 1., 1.],\n",
              "         [1., 1., 1., 1.],\n",
              "         [1., 1., 1., 1.]]),\n",
              " torch.float32)"
            ]
          },
          "metadata": {},
          "execution_count": 26
        }
      ]
    },
    {
      "cell_type": "markdown",
      "source": [
        "**Creating a range and tensors alike**"
      ],
      "metadata": {
        "id": "c82ZoTtxJ5Ik"
      }
    },
    {
      "cell_type": "markdown",
      "source": [
        "Sometimes you might want a range of numbers, such as 1 to 10 or 0 to 100.\n",
        "\n",
        "You can use ```torch.arange(start, end, step)``` to do so.\n",
        "\n",
        "Where:\n",
        "\n",
        "start = start of range (e.g. 0)\n",
        "end = end of range (e.g. 10)\n",
        "step = how many steps in between each value (e.g. 1)"
      ],
      "metadata": {
        "id": "lm6SfUp5KFMd"
      }
    },
    {
      "cell_type": "code",
      "source": [
        "# Use torch.arange(), torch.range() is deprecated\n",
        "zero_to_ten_deprecated = torch.range(0, 10) # Note: this may return an error in the future\n",
        "\n",
        "# Create a range of values 0 to 10\n",
        "zero_to_ten = torch.arange(start=0, end=10, step=1)\n",
        "zero_to_ten"
      ],
      "metadata": {
        "colab": {
          "base_uri": "https://localhost:8080/"
        },
        "id": "RDPbcfJlHJba",
        "outputId": "268bf2bd-b198-417b-d2e1-b1b546a4fc39"
      },
      "execution_count": 27,
      "outputs": [
        {
          "output_type": "stream",
          "name": "stderr",
          "text": [
            "<ipython-input-27-a09072c806d9>:2: UserWarning: torch.range is deprecated and will be removed in a future release because its behavior is inconsistent with Python's range builtin. Instead, use torch.arange, which produces values in [start, end).\n",
            "  zero_to_ten_deprecated = torch.range(0, 10) # Note: this may return an error in the future\n"
          ]
        },
        {
          "output_type": "execute_result",
          "data": {
            "text/plain": [
              "tensor([0, 1, 2, 3, 4, 5, 6, 7, 8, 9])"
            ]
          },
          "metadata": {},
          "execution_count": 27
        }
      ]
    },
    {
      "cell_type": "markdown",
      "source": [
        "**Tensor datatypes**\n",
        "\n",
        "The most common type (and generally the default) is ```torch.float32``` or ```torch.float```"
      ],
      "metadata": {
        "id": "1Vl9n5R2KgcE"
      }
    },
    {
      "cell_type": "markdown",
      "source": [
        "The higher the precision value (8, 16, 32), the more detail and hence data used to express a number.\n",
        "\n",
        "This matters in deep learning and numerical computing because you're making so many operations, the more detail you have to calculate on, the more compute you have to use.\n",
        "\n",
        "So lower precision datatypes are generally faster to compute on but sacrifice some performance on evaluation metrics like accuracy (faster to compute but less accurate)."
      ],
      "metadata": {
        "id": "9nCRW5_eK2zc"
      }
    },
    {
      "cell_type": "code",
      "source": [
        "# Default datatype for tensors is float32\n",
        "float_32_tensor = torch.tensor([3.0, 6.0, 9.0],\n",
        "                               dtype=None, # defaults to None, which is torch.float32 or whatever datatype is passed\n",
        "                               device=None, # defaults to None, which uses the default tensor type\n",
        "                               requires_grad=False) # if True, operations performed on the tensor are recorded\n",
        "\n",
        "float_32_tensor.shape, float_32_tensor.dtype, float_32_tensor.device"
      ],
      "metadata": {
        "colab": {
          "base_uri": "https://localhost:8080/"
        },
        "id": "AX0iGdH0KfsX",
        "outputId": "19d2d68a-465d-42bf-b440-e44d623489b6"
      },
      "execution_count": 28,
      "outputs": [
        {
          "output_type": "execute_result",
          "data": {
            "text/plain": [
              "(torch.Size([3]), torch.float32, device(type='cpu'))"
            ]
          },
          "metadata": {},
          "execution_count": 28
        }
      ]
    },
    {
      "cell_type": "markdown",
      "source": [
        "while writing code in pytorch make sure, your tensors are in the same datatype, with whom on you're trying to perform operations"
      ],
      "metadata": {
        "id": "JtTgcgIBLRUP"
      }
    },
    {
      "cell_type": "markdown",
      "source": [
        "Another point, one tensor on cpu and another gpu will cause an error as pytorch loves them to be in the same device"
      ],
      "metadata": {
        "id": "9wQwiR_rLd6B"
      }
    },
    {
      "cell_type": "code",
      "source": [
        "float_16_tensor = torch.tensor([3.0, 6.0, 9.0],\n",
        "                               dtype=torch.float16) # torch.half would also work\n",
        "\n",
        "float_16_tensor.dtype"
      ],
      "metadata": {
        "colab": {
          "base_uri": "https://localhost:8080/"
        },
        "id": "0NPX7UUZLF41",
        "outputId": "967e4bd8-0215-402c-b1ca-5b02ab1ddcd1"
      },
      "execution_count": 29,
      "outputs": [
        {
          "output_type": "execute_result",
          "data": {
            "text/plain": [
              "torch.float16"
            ]
          },
          "metadata": {},
          "execution_count": 29
        }
      ]
    },
    {
      "cell_type": "markdown",
      "source": [
        "What are the basic information to investigate while facing an error?"
      ],
      "metadata": {
        "id": "BFeGgB5mL7zN"
      }
    },
    {
      "cell_type": "code",
      "source": [
        "# Create a tensor\n",
        "some_tensor = torch.rand(3, 4)\n",
        "\n",
        "# Find out details about it\n",
        "print(some_tensor)\n",
        "print(f\"Shape of tensor: {some_tensor.shape}\")\n",
        "print(f\"Datatype of tensor: {some_tensor.dtype}\")\n",
        "print(f\"Device tensor is stored on: {some_tensor.device}\") # will default to CPU"
      ],
      "metadata": {
        "colab": {
          "base_uri": "https://localhost:8080/"
        },
        "id": "AJ9Rx-RcLm-C",
        "outputId": "3f27ed22-5221-4ee0-8c0d-9ade471b07b1"
      },
      "execution_count": 30,
      "outputs": [
        {
          "output_type": "stream",
          "name": "stdout",
          "text": [
            "tensor([[0.0269, 0.2588, 0.9257, 0.7936],\n",
            "        [0.4726, 0.5256, 0.2050, 0.9890],\n",
            "        [0.2353, 0.0555, 0.5098, 0.0792]])\n",
            "Shape of tensor: torch.Size([3, 4])\n",
            "Datatype of tensor: torch.float32\n",
            "Device tensor is stored on: cpu\n"
          ]
        }
      ]
    },
    {
      "cell_type": "markdown",
      "source": [
        "**Manipulating Tensors (Basic Maths operations on them)**"
      ],
      "metadata": {
        "id": "Fbrx5QRAMDkj"
      }
    },
    {
      "cell_type": "code",
      "source": [
        "# Create a tensor of values and add a number to it\n",
        "tensor = torch.tensor([1, 2, 3])\n",
        "tensor + 10"
      ],
      "metadata": {
        "colab": {
          "base_uri": "https://localhost:8080/"
        },
        "id": "W_umGxXJMBEj",
        "outputId": "b73ad6ea-c3c4-4ead-d0b6-b01220d0d652"
      },
      "execution_count": 31,
      "outputs": [
        {
          "output_type": "execute_result",
          "data": {
            "text/plain": [
              "tensor([11, 12, 13])"
            ]
          },
          "metadata": {},
          "execution_count": 31
        }
      ]
    },
    {
      "cell_type": "code",
      "source": [
        "# Multiply it by 10\n",
        "tensor * 10"
      ],
      "metadata": {
        "colab": {
          "base_uri": "https://localhost:8080/"
        },
        "id": "fNAQ0jC0MM96",
        "outputId": "5f3e9ceb-1e99-45e3-c75d-26c05a9a9de6"
      },
      "execution_count": 32,
      "outputs": [
        {
          "output_type": "execute_result",
          "data": {
            "text/plain": [
              "tensor([10, 20, 30])"
            ]
          },
          "metadata": {},
          "execution_count": 32
        }
      ]
    },
    {
      "cell_type": "markdown",
      "source": [
        "\n",
        "Notice how the tensor values above didn't end up being ```tensor([110, 120, 130])```, this is because the values inside the tensor don't change unless they're reassigned."
      ],
      "metadata": {
        "id": "8PraY2wWMW3G"
      }
    },
    {
      "cell_type": "code",
      "source": [
        "# Tensors don't change unless reassigned\n",
        "tensor"
      ],
      "metadata": {
        "colab": {
          "base_uri": "https://localhost:8080/"
        },
        "id": "qTinOAI5MPTS",
        "outputId": "9a811de4-653a-444d-d712-f97c1237e8d8"
      },
      "execution_count": 33,
      "outputs": [
        {
          "output_type": "execute_result",
          "data": {
            "text/plain": [
              "tensor([1, 2, 3])"
            ]
          },
          "metadata": {},
          "execution_count": 33
        }
      ]
    },
    {
      "cell_type": "code",
      "source": [
        "# Subtract and reassign\n",
        "tensor = tensor - 10\n",
        "tensor"
      ],
      "metadata": {
        "colab": {
          "base_uri": "https://localhost:8080/"
        },
        "id": "f-_J1cchMbKy",
        "outputId": "8f98870f-a8f9-4cc0-afe6-6ff12a3eed7e"
      },
      "execution_count": 34,
      "outputs": [
        {
          "output_type": "execute_result",
          "data": {
            "text/plain": [
              "tensor([-9, -8, -7])"
            ]
          },
          "metadata": {},
          "execution_count": 34
        }
      ]
    },
    {
      "cell_type": "code",
      "source": [
        "# Add and reassign\n",
        "tensor = tensor + 10\n",
        "tensor"
      ],
      "metadata": {
        "colab": {
          "base_uri": "https://localhost:8080/"
        },
        "id": "EuSCOCyBMemC",
        "outputId": "23df7924-26b6-454f-e3cd-ff5eb3450620"
      },
      "execution_count": 35,
      "outputs": [
        {
          "output_type": "execute_result",
          "data": {
            "text/plain": [
              "tensor([1, 2, 3])"
            ]
          },
          "metadata": {},
          "execution_count": 35
        }
      ]
    },
    {
      "cell_type": "markdown",
      "source": [
        "\n",
        "PyTorch also has a bunch of built-in functions like `torch.mul()` (short for multiplication) and `torch.add()` to perform basic operations."
      ],
      "metadata": {
        "id": "OqR_9fQpMp_B"
      }
    },
    {
      "cell_type": "code",
      "source": [
        "# Can also use torch functions\n",
        "torch.multiply(tensor, 10)"
      ],
      "metadata": {
        "colab": {
          "base_uri": "https://localhost:8080/"
        },
        "id": "U_AJmLsNMkTa",
        "outputId": "089682fd-4d46-49ad-bf03-824b1ba24773"
      },
      "execution_count": 36,
      "outputs": [
        {
          "output_type": "execute_result",
          "data": {
            "text/plain": [
              "tensor([10, 20, 30])"
            ]
          },
          "metadata": {},
          "execution_count": 36
        }
      ]
    },
    {
      "cell_type": "code",
      "source": [
        "torch.mul(tensor, 10)"
      ],
      "metadata": {
        "colab": {
          "base_uri": "https://localhost:8080/"
        },
        "id": "fLWKjID5MxXC",
        "outputId": "a463a97f-ea36-438e-ef11-cc291eaf2f21"
      },
      "execution_count": 37,
      "outputs": [
        {
          "output_type": "execute_result",
          "data": {
            "text/plain": [
              "tensor([10, 20, 30])"
            ]
          },
          "metadata": {},
          "execution_count": 37
        }
      ]
    },
    {
      "cell_type": "code",
      "source": [
        "# Original tensor is still unchanged\n",
        "tensor"
      ],
      "metadata": {
        "colab": {
          "base_uri": "https://localhost:8080/"
        },
        "id": "esbevRqGMz_o",
        "outputId": "59bf6a31-3043-4307-efe1-b0d838981594"
      },
      "execution_count": 38,
      "outputs": [
        {
          "output_type": "execute_result",
          "data": {
            "text/plain": [
              "tensor([1, 2, 3])"
            ]
          },
          "metadata": {},
          "execution_count": 38
        }
      ]
    },
    {
      "cell_type": "markdown",
      "source": [
        "\n",
        "However, it's more common to use the operator symbols like `*` instead of `torch.mul()`"
      ],
      "metadata": {
        "id": "pPYbov2OM6gt"
      }
    },
    {
      "cell_type": "code",
      "source": [
        "# Element-wise multiplication (each element multiplies its equivalent, index 0->0, 1->1, 2->2)\n",
        "print(tensor, \"*\", tensor)\n",
        "print(\"Equals:\", tensor * tensor)"
      ],
      "metadata": {
        "colab": {
          "base_uri": "https://localhost:8080/"
        },
        "id": "eCY4xrfpM2J7",
        "outputId": "c9dbc176-7371-4495-94d1-4d05954c99e6"
      },
      "execution_count": 40,
      "outputs": [
        {
          "output_type": "stream",
          "name": "stdout",
          "text": [
            "tensor([1, 2, 3]) * tensor([1, 2, 3])\n",
            "Equals: tensor([1, 4, 9])\n"
          ]
        }
      ]
    },
    {
      "cell_type": "markdown",
      "source": [
        "**Matrix Multiplication (all you need in Deep Learning)**\n",
        "\n",
        "We perform this interesting operation using `torch.matmul()`\n",
        "\n",
        "The main two rules for matrix multiplication to remember are:\n",
        "\n",
        "The inner dimensions must match:\n",
        "1. `(3, 2) @ (3, 2) won't work`\n",
        "2. `(2, 3) @ (3, 2) will work`\n",
        "3.`(3, 2) @ (2, 3) will work`\n",
        "The resulting matrix has the shape of the outer dimensions:\n",
        "1. `(2, 3) @ (3, 2) -> (2, 2)`\n",
        "2. `(3, 2) @ (2, 3) -> (3, 3)`\n",
        "\n",
        "**Note:** `\"@\"`in Python is the symbol for matrix multiplication."
      ],
      "metadata": {
        "id": "ypPs0DrqN8NC"
      }
    },
    {
      "cell_type": "code",
      "source": [
        "tensor = torch.tensor([1, 2, 3])\n",
        "tensor.shape"
      ],
      "metadata": {
        "id": "vdcv5pUyNBHT"
      },
      "execution_count": null,
      "outputs": []
    },
    {
      "cell_type": "markdown",
      "source": [
        "1. `Element-wise multiplication\t[1*1, 2*2, 3*3] = [1, 4, 9]`\n",
        "2. `Matrix multiplication\t[1*1 + 2*2 + 3*3] = [14]`"
      ],
      "metadata": {
        "id": "DwzBG-RGPoB3"
      }
    },
    {
      "cell_type": "code",
      "source": [
        "# Element-wise matrix multiplication\n",
        "tensor * tensor"
      ],
      "metadata": {
        "colab": {
          "base_uri": "https://localhost:8080/"
        },
        "id": "Gc5Sy_iBPndH",
        "outputId": "682201b1-457c-4652-bf2a-4fde3b075a1a"
      },
      "execution_count": 41,
      "outputs": [
        {
          "output_type": "execute_result",
          "data": {
            "text/plain": [
              "tensor([1, 4, 9])"
            ]
          },
          "metadata": {},
          "execution_count": 41
        }
      ]
    },
    {
      "cell_type": "code",
      "source": [
        "# Matrix multiplication\n",
        "torch.matmul(tensor, tensor)"
      ],
      "metadata": {
        "colab": {
          "base_uri": "https://localhost:8080/"
        },
        "id": "ra_efM29P1rS",
        "outputId": "a83c27a6-59f7-419e-fa2a-68896666b5b3"
      },
      "execution_count": 42,
      "outputs": [
        {
          "output_type": "execute_result",
          "data": {
            "text/plain": [
              "tensor(14)"
            ]
          },
          "metadata": {},
          "execution_count": 42
        }
      ]
    },
    {
      "cell_type": "code",
      "source": [
        "# Can also use the \"@\" symbol for matrix multiplication, though not recommended\n",
        "tensor @ tensor"
      ],
      "metadata": {
        "colab": {
          "base_uri": "https://localhost:8080/"
        },
        "id": "09F_x-VKP3C0",
        "outputId": "c5c2d084-e029-42e7-e4a0-08371296997a"
      },
      "execution_count": 43,
      "outputs": [
        {
          "output_type": "execute_result",
          "data": {
            "text/plain": [
              "tensor(14)"
            ]
          },
          "metadata": {},
          "execution_count": 43
        }
      ]
    },
    {
      "cell_type": "markdown",
      "source": [
        "*doing matrix multiplication by hand*"
      ],
      "metadata": {
        "id": "RJzvLRiYP-HI"
      }
    },
    {
      "cell_type": "code",
      "source": [
        "%%time\n",
        "# Matrix multiplication by hand\n",
        "# (avoid doing operations with for loops at all cost, they are computationally expensive)\n",
        "value = 0\n",
        "for i in range(len(tensor)):\n",
        "  value += tensor[i] * tensor[i]\n",
        "value"
      ],
      "metadata": {
        "colab": {
          "base_uri": "https://localhost:8080/"
        },
        "id": "1Ya0-aTyP5kr",
        "outputId": "52eb625a-4176-43fb-d0a8-3a87afe5d831"
      },
      "execution_count": 44,
      "outputs": [
        {
          "output_type": "stream",
          "name": "stdout",
          "text": [
            "CPU times: user 1.47 ms, sys: 46 µs, total: 1.52 ms\n",
            "Wall time: 1.4 ms\n"
          ]
        },
        {
          "output_type": "execute_result",
          "data": {
            "text/plain": [
              "tensor(14)"
            ]
          },
          "metadata": {},
          "execution_count": 44
        }
      ]
    },
    {
      "cell_type": "code",
      "source": [
        "%%time\n",
        "torch.matmul(tensor, tensor)"
      ],
      "metadata": {
        "colab": {
          "base_uri": "https://localhost:8080/"
        },
        "id": "miaPQJGWQDdS",
        "outputId": "6007094d-0ea6-417f-a446-e668d411727c"
      },
      "execution_count": 45,
      "outputs": [
        {
          "output_type": "stream",
          "name": "stdout",
          "text": [
            "CPU times: user 117 µs, sys: 0 ns, total: 117 µs\n",
            "Wall time: 121 µs\n"
          ]
        },
        {
          "output_type": "execute_result",
          "data": {
            "text/plain": [
              "tensor(14)"
            ]
          },
          "metadata": {},
          "execution_count": 45
        }
      ]
    },
    {
      "cell_type": "markdown",
      "source": [
        "#### **One of the most common errors in deep learning (shape errors)**"
      ],
      "metadata": {
        "id": "7VJRm_c6QMPp"
      }
    },
    {
      "cell_type": "markdown",
      "source": [
        "We finally need headings, yay!\n"
      ],
      "metadata": {
        "id": "Ot0j_DuZQPWP"
      }
    },
    {
      "cell_type": "markdown",
      "source": [
        "Because much of deep learning is multiplying and performing operations on matrices and matrices have a strict rule about what shapes and sizes can be combined, one of the most common errors you'll run into in deep learning is shape mismatches."
      ],
      "metadata": {
        "id": "dHOoPPsdQnEt"
      }
    },
    {
      "cell_type": "code",
      "source": [
        "# Shapes need to be in the right way\n",
        "tensor_A = torch.tensor([[1, 2],\n",
        "                         [3, 4],\n",
        "                         [5, 6]], dtype=torch.float32)\n",
        "\n",
        "tensor_B = torch.tensor([[7, 10],\n",
        "                         [8, 11],\n",
        "                         [9, 12]], dtype=torch.float32)\n",
        "\n",
        "torch.matmul(tensor_A, tensor_B) # (this will error)"
      ],
      "metadata": {
        "colab": {
          "base_uri": "https://localhost:8080/",
          "height": 217
        },
        "id": "ZgrRLwkQQGVi",
        "outputId": "ea9461e1-bada-4cf1-e3bc-16667dab446a"
      },
      "execution_count": 46,
      "outputs": [
        {
          "output_type": "error",
          "ename": "RuntimeError",
          "evalue": "ignored",
          "traceback": [
            "\u001b[0;31m---------------------------------------------------------------------------\u001b[0m",
            "\u001b[0;31mRuntimeError\u001b[0m                              Traceback (most recent call last)",
            "\u001b[0;32m<ipython-input-46-aceec990e652>\u001b[0m in \u001b[0;36m<cell line: 10>\u001b[0;34m()\u001b[0m\n\u001b[1;32m      8\u001b[0m                          [9, 12]], dtype=torch.float32)\n\u001b[1;32m      9\u001b[0m \u001b[0;34m\u001b[0m\u001b[0m\n\u001b[0;32m---> 10\u001b[0;31m \u001b[0mtorch\u001b[0m\u001b[0;34m.\u001b[0m\u001b[0mmatmul\u001b[0m\u001b[0;34m(\u001b[0m\u001b[0mtensor_A\u001b[0m\u001b[0;34m,\u001b[0m \u001b[0mtensor_B\u001b[0m\u001b[0;34m)\u001b[0m \u001b[0;31m# (this will error)\u001b[0m\u001b[0;34m\u001b[0m\u001b[0;34m\u001b[0m\u001b[0m\n\u001b[0m",
            "\u001b[0;31mRuntimeError\u001b[0m: mat1 and mat2 shapes cannot be multiplied (3x2 and 3x2)"
          ]
        }
      ]
    },
    {
      "cell_type": "markdown",
      "source": [
        "We can make matrix multiplication work between tensor_A and tensor_B by making their inner dimensions match.\n",
        "\n",
        "One of the ways to do this is with a transpose (switch the dimensions of a given tensor).\n",
        "\n",
        "**We can perform transposes in PyTorch using either:**\n",
        "\n",
        "* torch.transpose(input, dim0, dim1) - where input is the desired tensor to transpose and dim0 and dim1 are the dimensions to be swapped.\n",
        "* tensor.T - where tensor is the desired tensor to transpose."
      ],
      "metadata": {
        "id": "DsRtvGUdQ27l"
      }
    },
    {
      "cell_type": "code",
      "source": [
        "# View tensor_A and tensor_B\n",
        "print(tensor_A)\n",
        "print(tensor_B)"
      ],
      "metadata": {
        "colab": {
          "base_uri": "https://localhost:8080/"
        },
        "id": "oveR9BM5Qxhc",
        "outputId": "f9b3a748-0923-4ff6-aa2a-2e2a954accdc"
      },
      "execution_count": 47,
      "outputs": [
        {
          "output_type": "stream",
          "name": "stdout",
          "text": [
            "tensor([[1., 2.],\n",
            "        [3., 4.],\n",
            "        [5., 6.]])\n",
            "tensor([[ 7., 10.],\n",
            "        [ 8., 11.],\n",
            "        [ 9., 12.]])\n"
          ]
        }
      ]
    },
    {
      "cell_type": "code",
      "source": [
        "# View tensor_A and tensor_B.T\n",
        "print(tensor_A)\n",
        "print(tensor_B.T)"
      ],
      "metadata": {
        "colab": {
          "base_uri": "https://localhost:8080/"
        },
        "id": "OvlerCRFRP3j",
        "outputId": "5174b485-ed1c-4e2c-b52e-77ff34a09915"
      },
      "execution_count": 48,
      "outputs": [
        {
          "output_type": "stream",
          "name": "stdout",
          "text": [
            "tensor([[1., 2.],\n",
            "        [3., 4.],\n",
            "        [5., 6.]])\n",
            "tensor([[ 7.,  8.,  9.],\n",
            "        [10., 11., 12.]])\n"
          ]
        }
      ]
    },
    {
      "cell_type": "code",
      "source": [
        "# The operation works when tensor_B is transposed\n",
        "print(f\"Original shapes: tensor_A = {tensor_A.shape}, tensor_B = {tensor_B.shape}\\n\")\n",
        "print(f\"New shapes: tensor_A = {tensor_A.shape} (same as above), tensor_B.T = {tensor_B.T.shape}\\n\")\n",
        "print(f\"Multiplying: {tensor_A.shape} * {tensor_B.T.shape} <- inner dimensions match\\n\")\n",
        "print(\"Output:\\n\")\n",
        "output = torch.matmul(tensor_A, tensor_B.T)\n",
        "print(output)\n",
        "print(f\"\\nOutput shape: {output.shape}\")"
      ],
      "metadata": {
        "colab": {
          "base_uri": "https://localhost:8080/"
        },
        "id": "pET3O8xqRTaj",
        "outputId": "af79c800-f7fa-49ef-b62a-7bda6d2ffea3"
      },
      "execution_count": 49,
      "outputs": [
        {
          "output_type": "stream",
          "name": "stdout",
          "text": [
            "Original shapes: tensor_A = torch.Size([3, 2]), tensor_B = torch.Size([3, 2])\n",
            "\n",
            "New shapes: tensor_A = torch.Size([3, 2]) (same as above), tensor_B.T = torch.Size([2, 3])\n",
            "\n",
            "Multiplying: torch.Size([3, 2]) * torch.Size([2, 3]) <- inner dimensions match\n",
            "\n",
            "Output:\n",
            "\n",
            "tensor([[ 27.,  30.,  33.],\n",
            "        [ 61.,  68.,  75.],\n",
            "        [ 95., 106., 117.]])\n",
            "\n",
            "Output shape: torch.Size([3, 3])\n"
          ]
        }
      ]
    },
    {
      "cell_type": "code",
      "source": [
        "# torch.mm is a shortcut for matmul\n",
        "torch.mm(tensor_A, tensor_B.T)"
      ],
      "metadata": {
        "colab": {
          "base_uri": "https://localhost:8080/"
        },
        "id": "aZxAtGJwRdHj",
        "outputId": "f6f0a396-90d3-4696-f23a-c3f13423e9c1"
      },
      "execution_count": 50,
      "outputs": [
        {
          "output_type": "execute_result",
          "data": {
            "text/plain": [
              "tensor([[ 27.,  30.,  33.],\n",
              "        [ 61.,  68.,  75.],\n",
              "        [ 95., 106., 117.]])"
            ]
          },
          "metadata": {},
          "execution_count": 50
        }
      ]
    },
    {
      "cell_type": "markdown",
      "source": [
        "a small visual...\n",
        "\n",
        "![image.png](data:image/png;base64,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)"
      ],
      "metadata": {
        "id": "_EENHlKWRyVF"
      }
    },
    {
      "cell_type": "markdown",
      "source": [
        "matrix multiplication is same as dot product of matrices"
      ],
      "metadata": {
        "id": "TFhHtpAMR3n7"
      }
    },
    {
      "cell_type": "markdown",
      "source": [
        "\n",
        "Neural networks are full of matrix multiplications and dot products."
      ],
      "metadata": {
        "id": "4JonVsLBSC3-"
      }
    },
    {
      "cell_type": "markdown",
      "source": [
        "The `torch.nn.Linear()` module (we'll see this in action later on), also known as a feed-forward layer or fully connected layer, implements a matrix multiplication between an input `x` and a weights matrix `A`."
      ],
      "metadata": {
        "id": "l0FCsFL_SD90"
      }
    },
    {
      "cell_type": "markdown",
      "source": [
        "$$\n",
        "y = x \\cdot A^T + b\n",
        "$$\n"
      ],
      "metadata": {
        "id": "FexxVAldTgzr"
      }
    },
    {
      "cell_type": "markdown",
      "source": [
        "Where:\n",
        "\n",
        "* x is the input to the layer (deep learning is a stack of layers like torch.nn.Linear() and others on top of each other).\n",
        "* `A` is the weights matrix created by the layer, this starts out as random numbers that get adjusted as a neural network learns to better represent patterns in the data (notice the \"T\", that's because the weights matrix gets transposed).\n",
        "**Note:** You might also often see W or another letter like X used to showcase the weights matrix.\n",
        "* `b` is the bias term used to slightly offset the weights and inputs.\n",
        "* `y` is the output (a manipulation of the input in the hopes to discover patterns in it).\n",
        "This is a linear function (you may have seen something like\n",
        "**y=mx+b** in high school or elsewhere), and can be used to draw a straight line!"
      ],
      "metadata": {
        "id": "2brCgPnwUrZG"
      }
    },
    {
      "cell_type": "code",
      "source": [
        "# Since the linear layer starts with a random weights matrix, let's make it reproducible (more on this later)\n",
        "torch.manual_seed(42)\n",
        "# This uses matrix multiplication\n",
        "linear = torch.nn.Linear(in_features=2, # in_features = matches inner dimension of input\n",
        "                         out_features=6) # out_features = describes outer value\n",
        "x = tensor_A\n",
        "output = linear(x)\n",
        "print(f\"Input shape: {x.shape}\\n\")\n",
        "print(f\"Output:\\n{output}\\n\\nOutput shape: {output.shape}\")"
      ],
      "metadata": {
        "colab": {
          "base_uri": "https://localhost:8080/"
        },
        "id": "uPYhb2WUSDiV",
        "outputId": "50a04b0d-7daa-4621-dda1-65d3288199ea"
      },
      "execution_count": 51,
      "outputs": [
        {
          "output_type": "stream",
          "name": "stdout",
          "text": [
            "Input shape: torch.Size([3, 2])\n",
            "\n",
            "Output:\n",
            "tensor([[2.2368, 1.2292, 0.4714, 0.3864, 0.1309, 0.9838],\n",
            "        [4.4919, 2.1970, 0.4469, 0.5285, 0.3401, 2.4777],\n",
            "        [6.7469, 3.1648, 0.4224, 0.6705, 0.5493, 3.9716]],\n",
            "       grad_fn=<AddmmBackward0>)\n",
            "\n",
            "Output shape: torch.Size([3, 6])\n"
          ]
        }
      ]
    },
    {
      "cell_type": "markdown",
      "source": [
        "**Finding the min, max, mean, sum, etc (aggregation)**"
      ],
      "metadata": {
        "id": "iYaM6v-xVvEd"
      }
    },
    {
      "cell_type": "markdown",
      "source": [
        "Now we've seen a few ways to manipulate tensors, let's run through a few ways to aggregate them (go from more values to less values).\n",
        "\n",
        "First we'll create a tensor and then find the max, min, mean and sum of it."
      ],
      "metadata": {
        "id": "fitlqtlwVwkc"
      }
    },
    {
      "cell_type": "code",
      "source": [
        "# Create a tensor\n",
        "x = torch.arange(0, 100, 10)\n",
        "x"
      ],
      "metadata": {
        "colab": {
          "base_uri": "https://localhost:8080/"
        },
        "id": "bCWm8EM-RpvK",
        "outputId": "38504c97-4492-4c5c-87e6-be209ec7f172"
      },
      "execution_count": 52,
      "outputs": [
        {
          "output_type": "execute_result",
          "data": {
            "text/plain": [
              "tensor([ 0, 10, 20, 30, 40, 50, 60, 70, 80, 90])"
            ]
          },
          "metadata": {},
          "execution_count": 52
        }
      ]
    },
    {
      "cell_type": "code",
      "source": [
        "print(f\"Minimum: {x.min()}\")\n",
        "print(f\"Maximum: {x.max()}\")\n",
        "# print(f\"Mean: {x.mean()}\") # this will error\n",
        "print(f\"Mean: {x.type(torch.float32).mean()}\") # won't work without float datatype\n",
        "print(f\"Sum: {x.sum()}\")"
      ],
      "metadata": {
        "colab": {
          "base_uri": "https://localhost:8080/"
        },
        "id": "0ezlQsjVV0tN",
        "outputId": "1cab4809-ae8d-4f83-b1e9-5a26cca271fd"
      },
      "execution_count": 53,
      "outputs": [
        {
          "output_type": "stream",
          "name": "stdout",
          "text": [
            "Minimum: 0\n",
            "Maximum: 90\n",
            "Mean: 45.0\n",
            "Sum: 450\n"
          ]
        }
      ]
    },
    {
      "cell_type": "markdown",
      "source": [
        "same operations but with `torch`"
      ],
      "metadata": {
        "id": "CIJdL8fHV4zs"
      }
    },
    {
      "cell_type": "code",
      "source": [
        "torch.max(x), torch.min(x), torch.mean(x.type(torch.float32)), torch.sum(x)"
      ],
      "metadata": {
        "colab": {
          "base_uri": "https://localhost:8080/"
        },
        "id": "DRwSXd7BV2jH",
        "outputId": "4e63cbd4-ff32-40cd-c5f7-60e796821f1a"
      },
      "execution_count": 54,
      "outputs": [
        {
          "output_type": "execute_result",
          "data": {
            "text/plain": [
              "(tensor(90), tensor(0), tensor(45.), tensor(450))"
            ]
          },
          "metadata": {},
          "execution_count": 54
        }
      ]
    },
    {
      "cell_type": "markdown",
      "source": [
        "**Positional min/max**"
      ],
      "metadata": {
        "id": "0zJaw1EZWI8A"
      }
    },
    {
      "cell_type": "markdown",
      "source": [
        "You can also find the index of a tensor where the max or minimum occurs with `torch.argmax()` and `torch.argmin()` respectively.\n",
        "\n",
        "This is helpful incase you just want the position where the highest (or lowest) value is and not the actual value itself (we'll see this in a later section when using the softmax activation function)."
      ],
      "metadata": {
        "id": "KlNKaVrOWOcU"
      }
    },
    {
      "cell_type": "code",
      "source": [
        "# Create a tensor\n",
        "tensor = torch.arange(10, 100, 10)\n",
        "print(f\"Tensor: {tensor}\")\n",
        "\n",
        "# Returns index of max and min values\n",
        "print(f\"Index where max value occurs: {tensor.argmax()}\")\n",
        "print(f\"Index where min value occurs: {tensor.argmin()}\")"
      ],
      "metadata": {
        "colab": {
          "base_uri": "https://localhost:8080/"
        },
        "id": "27YD6oBOWN1J",
        "outputId": "832fa74f-b716-468c-c208-80b55cb74089"
      },
      "execution_count": 55,
      "outputs": [
        {
          "output_type": "stream",
          "name": "stdout",
          "text": [
            "Tensor: tensor([10, 20, 30, 40, 50, 60, 70, 80, 90])\n",
            "Index where max value occurs: 8\n",
            "Index where min value occurs: 0\n"
          ]
        }
      ]
    },
    {
      "cell_type": "markdown",
      "source": [
        "**Change tensor datatype**"
      ],
      "metadata": {
        "id": "HxOkN4HLWZCZ"
      }
    },
    {
      "cell_type": "markdown",
      "source": [
        "As mentioned, a common issue with deep learning operations is having your tensors in different datatypes.\n",
        "\n",
        "If one tensor is in `torch.float64` and another is in `torch.float32`, you might run into some errors.\n",
        "\n",
        "But there's a fix.\n",
        "\n",
        "You can change the datatypes of tensors using `torch.Tensor.type(dtype=None)`where the dtype parameter is the datatype you'd like to use."
      ],
      "metadata": {
        "id": "iAAQYaxrWd4C"
      }
    },
    {
      "cell_type": "code",
      "source": [
        "# Create a tensor and check its datatype\n",
        "tensor = torch.arange(10., 100., 10.)\n",
        "tensor.dtype"
      ],
      "metadata": {
        "colab": {
          "base_uri": "https://localhost:8080/"
        },
        "id": "6UwFPCVUV-kJ",
        "outputId": "d89c4bd2-6bab-4a79-d6ee-a62fe0c7e385"
      },
      "execution_count": 56,
      "outputs": [
        {
          "output_type": "execute_result",
          "data": {
            "text/plain": [
              "torch.float32"
            ]
          },
          "metadata": {},
          "execution_count": 56
        }
      ]
    },
    {
      "cell_type": "code",
      "source": [
        "# Create a float16 tensor\n",
        "tensor_float16 = tensor.type(torch.float16)\n",
        "tensor_float16"
      ],
      "metadata": {
        "colab": {
          "base_uri": "https://localhost:8080/"
        },
        "id": "oEmKyN_3WoqN",
        "outputId": "090ef005-ce6c-4481-912f-a1cdab92b124"
      },
      "execution_count": 57,
      "outputs": [
        {
          "output_type": "execute_result",
          "data": {
            "text/plain": [
              "tensor([10., 20., 30., 40., 50., 60., 70., 80., 90.], dtype=torch.float16)"
            ]
          },
          "metadata": {},
          "execution_count": 57
        }
      ]
    },
    {
      "cell_type": "code",
      "source": [
        "# Create a int8 tensor\n",
        "tensor_int8 = tensor.type(torch.int8)\n",
        "tensor_int8"
      ],
      "metadata": {
        "colab": {
          "base_uri": "https://localhost:8080/"
        },
        "id": "FgZTOXUpWsgU",
        "outputId": "4e47d7ec-8504-4d24-ba80-97e274070c41"
      },
      "execution_count": 58,
      "outputs": [
        {
          "output_type": "execute_result",
          "data": {
            "text/plain": [
              "tensor([10, 20, 30, 40, 50, 60, 70, 80, 90], dtype=torch.int8)"
            ]
          },
          "metadata": {},
          "execution_count": 58
        }
      ]
    },
    {
      "cell_type": "markdown",
      "source": [
        "**Reshaping, stacking, squeezing and unsqueezing**"
      ],
      "metadata": {
        "id": "mnS2d7LBW5tN"
      }
    },
    {
      "cell_type": "markdown",
      "source": [
        "Often times you'll want to reshape or change the dimensions of your tensors without actually changing the values inside them."
      ],
      "metadata": {
        "id": "4A8MLKClXAcL"
      }
    },
    {
      "cell_type": "markdown",
      "source": [
        "<table border=\"1\">\n",
        "  <tr>\n",
        "    <th>Function</th>\n",
        "    <th>Description</th>\n",
        "  </tr>\n",
        "  <tr>\n",
        "    <td>torch.reshape(input, shape)</td>\n",
        "    <td>Reshapes input to shape (if compatible), can also use torch.Tensor.reshape().</td>\n",
        "  </tr>\n",
        "  <tr>\n",
        "    <td>torch.Tensor.view(shape)</td>\n",
        "    <td>Returns a view of the original tensor in a different shape but shares the same data as the original tensor.</td>\n",
        "  </tr>\n",
        "  <tr>\n",
        "    <td>torch.stack(tensors, dim=0)</td>\n",
        "    <td>Concatenates a sequence of tensors along a new dimension (dim), all tensors must be the same size.</td>\n",
        "  </tr>\n",
        "  <tr>\n",
        "    <td>torch.squeeze(input)</td>\n",
        "    <td>Squeezes input to remove all the dimensions with value 1.</td>\n",
        "  </tr>\n",
        "  <tr>\n",
        "    <td>torch.unsqueeze(input, dim)</td>\n",
        "    <td>Returns input with a dimension value of 1 added at dim.</td>\n",
        "  </tr>\n",
        "  <tr>\n",
        "    <td>torch.permute(input, dims)</td>\n",
        "    <td>Returns a view of the original input with its dimensions permuted (rearranged) to dims.</td>\n",
        "  </tr>\n",
        "</table>\n"
      ],
      "metadata": {
        "id": "x9D1MlEFXIw4"
      }
    },
    {
      "cell_type": "markdown",
      "source": [
        "Why do any of these?\n",
        "\n",
        "Because deep learning models (neural networks) are all about manipulating tensors in some way. And because of the rules of matrix multiplication, if you've got shape mismatches, you'll run into errors. These methods help you make the right elements of your tensors are mixing with the right elements of other tensors.\n",
        "\n",
        "Let's try them out."
      ],
      "metadata": {
        "id": "d_THAH-eXiMH"
      }
    },
    {
      "cell_type": "code",
      "source": [
        "x = torch.arange(1., 8.)\n",
        "x, x.shape"
      ],
      "metadata": {
        "colab": {
          "base_uri": "https://localhost:8080/"
        },
        "id": "v3NtpVpTWvhk",
        "outputId": "3e2b08e7-c362-4bf1-ab7c-a2aa012a5624"
      },
      "execution_count": 59,
      "outputs": [
        {
          "output_type": "execute_result",
          "data": {
            "text/plain": [
              "(tensor([1., 2., 3., 4., 5., 6., 7.]), torch.Size([7]))"
            ]
          },
          "metadata": {},
          "execution_count": 59
        }
      ]
    },
    {
      "cell_type": "code",
      "source": [
        "# Add an extra dimension\n",
        "x_reshaped = x.reshape(1, 7)\n",
        "x_reshaped, x_reshaped.shape"
      ],
      "metadata": {
        "colab": {
          "base_uri": "https://localhost:8080/"
        },
        "id": "Jwg3H4uBXlQF",
        "outputId": "032c642a-5fa0-4bc8-a242-d4c0f14197b0"
      },
      "execution_count": 60,
      "outputs": [
        {
          "output_type": "execute_result",
          "data": {
            "text/plain": [
              "(tensor([[1., 2., 3., 4., 5., 6., 7.]]), torch.Size([1, 7]))"
            ]
          },
          "metadata": {},
          "execution_count": 60
        }
      ]
    },
    {
      "cell_type": "code",
      "source": [
        "# Change view (keeps same data as original but changes view)\n",
        "# See more: https://stackoverflow.com/a/54507446/7900723\n",
        "z = x.view(1, 7)\n",
        "z, z.shape"
      ],
      "metadata": {
        "colab": {
          "base_uri": "https://localhost:8080/"
        },
        "id": "GYGohYUEXwW7",
        "outputId": "79f0e309-e7c1-417b-9f18-b161ce0f6dd2"
      },
      "execution_count": 61,
      "outputs": [
        {
          "output_type": "execute_result",
          "data": {
            "text/plain": [
              "(tensor([[1., 2., 3., 4., 5., 6., 7.]]), torch.Size([1, 7]))"
            ]
          },
          "metadata": {},
          "execution_count": 61
        }
      ]
    },
    {
      "cell_type": "markdown",
      "source": [
        "\n",
        "Remember though, changing the view of a tensor with `torch.view()` really only creates a new view of the same tensor.\n",
        "\n",
        "So changing the view changes the original tensor too."
      ],
      "metadata": {
        "id": "3Qet3c-CYCwa"
      }
    },
    {
      "cell_type": "code",
      "source": [
        "# Changing z changes x\n",
        "z[:, 0] = 5\n",
        "z, x"
      ],
      "metadata": {
        "colab": {
          "base_uri": "https://localhost:8080/"
        },
        "id": "fN_KcJbWX89K",
        "outputId": "e428d6e6-eaad-45df-939f-757df0fd31f7"
      },
      "execution_count": 64,
      "outputs": [
        {
          "output_type": "execute_result",
          "data": {
            "text/plain": [
              "(tensor([[5., 2., 3., 4., 5., 6., 7.]]), tensor([5., 2., 3., 4., 5., 6., 7.]))"
            ]
          },
          "metadata": {},
          "execution_count": 64
        }
      ]
    },
    {
      "cell_type": "markdown",
      "source": [
        "If we wanted to stack our new tensor on top of itself five times, we could do so with torch.stack()."
      ],
      "metadata": {
        "id": "35r8Bax1Yhay"
      }
    },
    {
      "cell_type": "code",
      "source": [
        "# Stack tensors on top of each other\n",
        "x_stacked = torch.stack([x, x, x, x], dim=1) # try changing dim to dim=1 and see what happens\n",
        "x_stacked"
      ],
      "metadata": {
        "colab": {
          "base_uri": "https://localhost:8080/"
        },
        "id": "HPb9jvWsYJdS",
        "outputId": "53e20f37-c781-4574-f473-d9d7e8e1a2c7"
      },
      "execution_count": 74,
      "outputs": [
        {
          "output_type": "execute_result",
          "data": {
            "text/plain": [
              "tensor([[5., 5., 5., 5.],\n",
              "        [2., 2., 2., 2.],\n",
              "        [3., 3., 3., 3.],\n",
              "        [4., 4., 4., 4.],\n",
              "        [5., 5., 5., 5.],\n",
              "        [6., 6., 6., 6.],\n",
              "        [7., 7., 7., 7.]])"
            ]
          },
          "metadata": {},
          "execution_count": 74
        }
      ]
    },
    {
      "cell_type": "code",
      "source": [
        "x_stacked.shape"
      ],
      "metadata": {
        "colab": {
          "base_uri": "https://localhost:8080/"
        },
        "id": "I16BFbE9YlSC",
        "outputId": "18d2c5b5-c1a9-4432-ad78-00d1c4e23f89"
      },
      "execution_count": 75,
      "outputs": [
        {
          "output_type": "execute_result",
          "data": {
            "text/plain": [
              "torch.Size([7, 4])"
            ]
          },
          "metadata": {},
          "execution_count": 75
        }
      ]
    },
    {
      "cell_type": "code",
      "source": [
        "x_stacked.ndim"
      ],
      "metadata": {
        "colab": {
          "base_uri": "https://localhost:8080/"
        },
        "id": "Vv_-q6wzY6n5",
        "outputId": "6ac478f6-aea3-448e-869e-5658fc6cbd25"
      },
      "execution_count": 76,
      "outputs": [
        {
          "output_type": "execute_result",
          "data": {
            "text/plain": [
              "2"
            ]
          },
          "metadata": {},
          "execution_count": 76
        }
      ]
    },
    {
      "cell_type": "markdown",
      "source": [
        "\n",
        "How about removing all single dimensions from a tensor?\n",
        "\n",
        "To do so you can use `torch.squeeze()` (I remember this as squeezing the tensor to only have dimensions over 1)."
      ],
      "metadata": {
        "id": "d0y_-Bc7ZFTv"
      }
    },
    {
      "cell_type": "code",
      "source": [
        "print(f\"Previous tensor: {x_reshaped}\")\n",
        "print(f\"Previous shape: {x_reshaped.shape}\")\n",
        "\n",
        "# Remove extra dimension from x_reshaped\n",
        "x_squeezed = x_reshaped.squeeze()\n",
        "print(f\"\\nNew tensor: {x_squeezed}\")\n",
        "print(f\"New shape: {x_squeezed.shape}\")"
      ],
      "metadata": {
        "colab": {
          "base_uri": "https://localhost:8080/"
        },
        "id": "k1pxJGW6Y5pW",
        "outputId": "16aa7314-34e0-4f63-8f71-ac02b9e704a0"
      },
      "execution_count": 77,
      "outputs": [
        {
          "output_type": "stream",
          "name": "stdout",
          "text": [
            "Previous tensor: tensor([[5., 2., 3., 4., 5., 6., 7.]])\n",
            "Previous shape: torch.Size([1, 7])\n",
            "\n",
            "New tensor: tensor([5., 2., 3., 4., 5., 6., 7.])\n",
            "New shape: torch.Size([7])\n"
          ]
        }
      ]
    },
    {
      "cell_type": "markdown",
      "source": [
        "And to do the reverse of `torch.squeeze()` you can use torch.unsqueeze() to add a dimension value of 1 at a specific index."
      ],
      "metadata": {
        "id": "QRKz323RZSiH"
      }
    },
    {
      "cell_type": "code",
      "source": [
        "print(f\"Previous tensor: {x_squeezed}\")\n",
        "print(f\"Previous shape: {x_squeezed.shape}\")\n",
        "\n",
        "## Add an extra dimension with unsqueeze\n",
        "x_unsqueezed = x_squeezed.unsqueeze(dim=0)\n",
        "print(f\"\\nNew tensor: {x_unsqueezed}\")\n",
        "print(f\"New shape: {x_unsqueezed.shape}\")"
      ],
      "metadata": {
        "colab": {
          "base_uri": "https://localhost:8080/"
        },
        "id": "Were673IZKeT",
        "outputId": "de9bfb00-dbe5-44f3-ecf4-35e92a8133a3"
      },
      "execution_count": 80,
      "outputs": [
        {
          "output_type": "stream",
          "name": "stdout",
          "text": [
            "Previous tensor: tensor([5., 2., 3., 4., 5., 6., 7.])\n",
            "Previous shape: torch.Size([7])\n",
            "\n",
            "New tensor: tensor([[5., 2., 3., 4., 5., 6., 7.]])\n",
            "New shape: torch.Size([1, 7])\n"
          ]
        }
      ]
    },
    {
      "cell_type": "markdown",
      "source": [
        "\n",
        "You can also rearrange the order of axes values with `torch.permute(input, dims)`, where the input gets turned into a view with new dims."
      ],
      "metadata": {
        "id": "Pe0XDcO_Zj6G"
      }
    },
    {
      "cell_type": "code",
      "source": [
        "# Create tensor with specific shape\n",
        "x_original = torch.rand(size=(224, 224, 3))\n",
        "\n",
        "# Permute the original tensor to rearrange the axis order\n",
        "x_permuted = x_original.permute(2, 0, 1) # shifts axis 0->1, 1->2, 2->0\n",
        "\n",
        "print(f\"Previous shape: {x_original.shape}\")\n",
        "print(f\"New shape: {x_permuted.shape}\")"
      ],
      "metadata": {
        "colab": {
          "base_uri": "https://localhost:8080/"
        },
        "id": "QDkcMkiNZa5j",
        "outputId": "c32e8e77-792e-4ba0-f09c-0abd2d29b63d"
      },
      "execution_count": 82,
      "outputs": [
        {
          "output_type": "stream",
          "name": "stdout",
          "text": [
            "Previous shape: torch.Size([224, 224, 3])\n",
            "New shape: torch.Size([3, 224, 224])\n"
          ]
        }
      ]
    },
    {
      "cell_type": "markdown",
      "source": [
        "**Indexing (selecting data from tensors)**"
      ],
      "metadata": {
        "id": "MHYTDoz8djaF"
      }
    },
    {
      "cell_type": "markdown",
      "source": [
        "Sometimes you'll want to select specific data from tensors (for example, only the first column or second row).\n",
        "\n",
        "To do so, you can use indexing.\n",
        "\n",
        "If you've ever done indexing on Python lists or NumPy arrays, indexing in PyTorch with tensors is very similar."
      ],
      "metadata": {
        "id": "6OTuDwl_dvyt"
      }
    },
    {
      "cell_type": "code",
      "source": [
        "x = torch.arange(1, 10).reshape(1, 3, 3)\n",
        "x, x.shape"
      ],
      "metadata": {
        "colab": {
          "base_uri": "https://localhost:8080/"
        },
        "id": "vdsDpQtMZpKC",
        "outputId": "cf14e552-4f19-482c-b7a1-f19583570760"
      },
      "execution_count": 83,
      "outputs": [
        {
          "output_type": "execute_result",
          "data": {
            "text/plain": [
              "(tensor([[[1, 2, 3],\n",
              "          [4, 5, 6],\n",
              "          [7, 8, 9]]]),\n",
              " torch.Size([1, 3, 3]))"
            ]
          },
          "metadata": {},
          "execution_count": 83
        }
      ]
    },
    {
      "cell_type": "markdown",
      "source": [
        "Indexing values goes outer dimension -> inner dimension (check out the square brackets)."
      ],
      "metadata": {
        "id": "ni9XQm2EeZL1"
      }
    },
    {
      "cell_type": "code",
      "source": [
        "# Let's index bracket by bracket\n",
        "print(f\"First square bracket:\\n{x[0]}\")\n",
        "print(f\"Second square bracket: {x[0][0]}\")\n",
        "print(f\"Third square bracket: {x[0][0][0]}\")"
      ],
      "metadata": {
        "colab": {
          "base_uri": "https://localhost:8080/"
        },
        "id": "prVQkal3eXma",
        "outputId": "300b51c8-35c3-4101-d414-171b2006fbea"
      },
      "execution_count": 84,
      "outputs": [
        {
          "output_type": "stream",
          "name": "stdout",
          "text": [
            "First square bracket:\n",
            "tensor([[1, 2, 3],\n",
            "        [4, 5, 6],\n",
            "        [7, 8, 9]])\n",
            "Second square bracket: tensor([1, 2, 3])\n",
            "Third square bracket: 1\n"
          ]
        }
      ]
    },
    {
      "cell_type": "markdown",
      "source": [
        "You can also use : to specify \"all values in this dimension\" and then use a comma (,) to add another dimension."
      ],
      "metadata": {
        "id": "46XGFV68eowB"
      }
    },
    {
      "cell_type": "code",
      "source": [
        "# Get all values of 0th dimension and the 0 index of 1st dimension\n",
        "x[:, 0]"
      ],
      "metadata": {
        "colab": {
          "base_uri": "https://localhost:8080/"
        },
        "id": "Xf6FQTtbd2M3",
        "outputId": "886a5c8e-3c7d-43c6-8d16-e0125546bca4"
      },
      "execution_count": 85,
      "outputs": [
        {
          "output_type": "execute_result",
          "data": {
            "text/plain": [
              "tensor([[1, 2, 3]])"
            ]
          },
          "metadata": {},
          "execution_count": 85
        }
      ]
    },
    {
      "cell_type": "code",
      "source": [
        "# Get all values of 0th & 1st dimensions but only index 1 of 2nd dimension\n",
        "x[:, :, 1]"
      ],
      "metadata": {
        "colab": {
          "base_uri": "https://localhost:8080/"
        },
        "id": "P2JE2ZHoerjs",
        "outputId": "2b5a1164-f267-462f-f94d-3f6d13c8002f"
      },
      "execution_count": 86,
      "outputs": [
        {
          "output_type": "execute_result",
          "data": {
            "text/plain": [
              "tensor([[2, 5, 8]])"
            ]
          },
          "metadata": {},
          "execution_count": 86
        }
      ]
    },
    {
      "cell_type": "code",
      "source": [
        "# Get all values of the 0 dimension but only the 1 index value of the 1st and 2nd dimension\n",
        "x[:, 1, 1]"
      ],
      "metadata": {
        "colab": {
          "base_uri": "https://localhost:8080/"
        },
        "id": "XoFG_KF1e5Vk",
        "outputId": "5e725a4e-9ae2-4636-daeb-adb350374880"
      },
      "execution_count": 87,
      "outputs": [
        {
          "output_type": "execute_result",
          "data": {
            "text/plain": [
              "tensor([5])"
            ]
          },
          "metadata": {},
          "execution_count": 87
        }
      ]
    },
    {
      "cell_type": "code",
      "source": [
        "# Get index 0 of 0th and 1st dimension and all values of 2nd dimension\n",
        "x[0, 0, :] # same as x[0][0]"
      ],
      "metadata": {
        "colab": {
          "base_uri": "https://localhost:8080/"
        },
        "id": "5wRSwDz1freE",
        "outputId": "1c38ff65-504e-4520-deab-c3846d71caf4"
      },
      "execution_count": 88,
      "outputs": [
        {
          "output_type": "execute_result",
          "data": {
            "text/plain": [
              "tensor([1, 2, 3])"
            ]
          },
          "metadata": {},
          "execution_count": 88
        }
      ]
    },
    {
      "cell_type": "markdown",
      "source": [
        "Indexing can be quite confusing to begin with, especially with larger tensors (I still have to try indexing multiple times to get it right). But with a bit of practice and following the data explorer's motto (**visualize, visualize, visualize**), you'll start to get the hang of it."
      ],
      "metadata": {
        "id": "XsMeIUnnfzLF"
      }
    },
    {
      "cell_type": "markdown",
      "source": [
        "**PyTorch tensors & NumPy**"
      ],
      "metadata": {
        "id": "suy1szighWnq"
      }
    },
    {
      "cell_type": "markdown",
      "source": [
        "Since NumPy is a popular Python numerical computing library, PyTorch has functionality to interact with it nicely.\n",
        "\n",
        "The two main methods you'll want to use for NumPy to PyTorch (and back again) are:\n",
        "\n",
        "1. torch.from_numpy(ndarray) - NumPy array -> PyTorch tensor.\n",
        "2. torch.Tensor.numpy() - PyTorch tensor -> NumPy array."
      ],
      "metadata": {
        "id": "yr5n58dzhcam"
      }
    },
    {
      "cell_type": "code",
      "source": [
        "import numpy as np\n",
        "array = np.arange(1.0, 8.0)\n",
        "tensor = torch.from_numpy(array)\n",
        "array, tensor"
      ],
      "metadata": {
        "colab": {
          "base_uri": "https://localhost:8080/"
        },
        "id": "3I_Yuwe8fuCl",
        "outputId": "f799ae12-170e-4cbe-cd5d-d849ef103729"
      },
      "execution_count": 89,
      "outputs": [
        {
          "output_type": "execute_result",
          "data": {
            "text/plain": [
              "(array([1., 2., 3., 4., 5., 6., 7.]),\n",
              " tensor([1., 2., 3., 4., 5., 6., 7.], dtype=torch.float64))"
            ]
          },
          "metadata": {},
          "execution_count": 89
        }
      ]
    },
    {
      "cell_type": "code",
      "source": [
        "# Change the array, keep the tensor\n",
        "array = array + 1\n",
        "array, tensor"
      ],
      "metadata": {
        "colab": {
          "base_uri": "https://localhost:8080/"
        },
        "id": "w9knRzWehrZk",
        "outputId": "9d511bd7-acd4-407b-eedf-a34331177163"
      },
      "execution_count": 90,
      "outputs": [
        {
          "output_type": "execute_result",
          "data": {
            "text/plain": [
              "(array([2., 3., 4., 5., 6., 7., 8.]),\n",
              " tensor([1., 2., 3., 4., 5., 6., 7.], dtype=torch.float64))"
            ]
          },
          "metadata": {},
          "execution_count": 90
        }
      ]
    },
    {
      "cell_type": "code",
      "source": [
        "# Tensor to NumPy array\n",
        "tensor = torch.ones(7) # create a tensor of ones with dtype=float32\n",
        "numpy_tensor = tensor.numpy() # will be dtype=float32 unless changed\n",
        "tensor, numpy_tensor"
      ],
      "metadata": {
        "colab": {
          "base_uri": "https://localhost:8080/"
        },
        "id": "N7nI5miXjHjX",
        "outputId": "0f1b08c3-37ef-41e3-9a44-a3069948fca8"
      },
      "execution_count": 92,
      "outputs": [
        {
          "output_type": "execute_result",
          "data": {
            "text/plain": [
              "(tensor([1., 1., 1., 1., 1., 1., 1.]),\n",
              " array([1., 1., 1., 1., 1., 1., 1.], dtype=float32))"
            ]
          },
          "metadata": {},
          "execution_count": 92
        }
      ]
    },
    {
      "cell_type": "code",
      "source": [
        "# Change the tensor, keep the array the same\n",
        "tensor = tensor + 1\n",
        "tensor, numpy_tensor"
      ],
      "metadata": {
        "colab": {
          "base_uri": "https://localhost:8080/"
        },
        "id": "O1A8EhYGijxe",
        "outputId": "d9ad491c-c36e-4078-99ef-9e10de11ccbe"
      },
      "execution_count": 93,
      "outputs": [
        {
          "output_type": "execute_result",
          "data": {
            "text/plain": [
              "(tensor([2., 2., 2., 2., 2., 2., 2.]),\n",
              " array([1., 1., 1., 1., 1., 1., 1.], dtype=float32))"
            ]
          },
          "metadata": {},
          "execution_count": 93
        }
      ]
    },
    {
      "cell_type": "markdown",
      "source": [
        "**Reproducibility (trying to take the random out of random)**"
      ],
      "metadata": {
        "id": "yoOYF08Sjht8"
      }
    },
    {
      "cell_type": "markdown",
      "source": [
        "`start with random numbers -> tensor operations -> try to make better (again and again and again)`"
      ],
      "metadata": {
        "id": "SJAQuNl5jlTN"
      }
    },
    {
      "cell_type": "code",
      "source": [
        "# Create two random tensors\n",
        "random_tensor_A = torch.rand(3, 4)\n",
        "random_tensor_B = torch.rand(3, 4)\n",
        "\n",
        "print(f\"Tensor A:\\n{random_tensor_A}\\n\")\n",
        "print(f\"Tensor B:\\n{random_tensor_B}\\n\")\n",
        "print(f\"Does Tensor A equal Tensor B? (anywhere)\")\n",
        "random_tensor_A == random_tensor_B"
      ],
      "metadata": {
        "colab": {
          "base_uri": "https://localhost:8080/"
        },
        "id": "MHMdP8IIimaT",
        "outputId": "18a2ab28-d478-4e9c-dca4-4752e5b546f9"
      },
      "execution_count": 94,
      "outputs": [
        {
          "output_type": "stream",
          "name": "stdout",
          "text": [
            "Tensor A:\n",
            "tensor([[0.8660, 0.2001, 0.7926, 0.1140],\n",
            "        [0.6855, 0.0086, 0.3588, 0.9211],\n",
            "        [0.8627, 0.8223, 0.5248, 0.5881]])\n",
            "\n",
            "Tensor B:\n",
            "tensor([[0.2746, 0.3791, 0.2975, 0.6450],\n",
            "        [0.0163, 0.9160, 0.5888, 0.8403],\n",
            "        [0.4761, 0.7140, 0.4644, 0.6362]])\n",
            "\n",
            "Does Tensor A equal Tensor B? (anywhere)\n"
          ]
        },
        {
          "output_type": "execute_result",
          "data": {
            "text/plain": [
              "tensor([[False, False, False, False],\n",
              "        [False, False, False, False],\n",
              "        [False, False, False, False]])"
            ]
          },
          "metadata": {},
          "execution_count": 94
        }
      ]
    },
    {
      "cell_type": "markdown",
      "source": [
        "As in, the tensors would still contain random values but they would be of the same flavour.\n",
        "\n",
        "That's where `torch.manual_seed(seed)` comes in, where seed is an integer (like 42 but it could be anything) that flavours the randomness."
      ],
      "metadata": {
        "id": "3yif5jhIj3o7"
      }
    },
    {
      "cell_type": "code",
      "source": [
        "import random\n",
        "\n",
        "# # Set the random seed\n",
        "RANDOM_SEED=42 # try changing this to different values and see what happens to the numbers below\n",
        "torch.manual_seed(seed=RANDOM_SEED)\n",
        "random_tensor_C = torch.rand(3, 4)\n",
        "\n",
        "# Have to reset the seed every time a new rand() is called\n",
        "# Without this, tensor_D would be different to tensor_C\n",
        "torch.random.manual_seed(seed=RANDOM_SEED) # try commenting this line out and seeing what happens\n",
        "random_tensor_D = torch.rand(3, 4)\n",
        "\n",
        "print(f\"Tensor C:\\n{random_tensor_C}\\n\")\n",
        "print(f\"Tensor D:\\n{random_tensor_D}\\n\")\n",
        "print(f\"Does Tensor C equal Tensor D? (anywhere)\")\n",
        "random_tensor_C == random_tensor_D"
      ],
      "metadata": {
        "colab": {
          "base_uri": "https://localhost:8080/"
        },
        "id": "2z9ABtqRjqeL",
        "outputId": "a4709b12-9c48-429d-bf77-e855580d45a4"
      },
      "execution_count": 95,
      "outputs": [
        {
          "output_type": "stream",
          "name": "stdout",
          "text": [
            "Tensor C:\n",
            "tensor([[0.8823, 0.9150, 0.3829, 0.9593],\n",
            "        [0.3904, 0.6009, 0.2566, 0.7936],\n",
            "        [0.9408, 0.1332, 0.9346, 0.5936]])\n",
            "\n",
            "Tensor D:\n",
            "tensor([[0.8823, 0.9150, 0.3829, 0.9593],\n",
            "        [0.3904, 0.6009, 0.2566, 0.7936],\n",
            "        [0.9408, 0.1332, 0.9346, 0.5936]])\n",
            "\n",
            "Does Tensor C equal Tensor D? (anywhere)\n"
          ]
        },
        {
          "output_type": "execute_result",
          "data": {
            "text/plain": [
              "tensor([[True, True, True, True],\n",
              "        [True, True, True, True],\n",
              "        [True, True, True, True]])"
            ]
          },
          "metadata": {},
          "execution_count": 95
        }
      ]
    },
    {
      "cell_type": "code",
      "source": [
        "!nvidia-smi"
      ],
      "metadata": {
        "colab": {
          "base_uri": "https://localhost:8080/"
        },
        "id": "pxaJxQiNj76V",
        "outputId": "b15dfbc3-0d79-453f-c2a0-5e539017ae8e"
      },
      "execution_count": 96,
      "outputs": [
        {
          "output_type": "stream",
          "name": "stdout",
          "text": [
            "/bin/bash: line 1: nvidia-smi: command not found\n"
          ]
        }
      ]
    },
    {
      "cell_type": "code",
      "source": [
        "# check gpu\n",
        "torch.cuda.is_available()"
      ],
      "metadata": {
        "id": "ju40O3cpkRay"
      },
      "execution_count": null,
      "outputs": []
    },
    {
      "cell_type": "code",
      "source": [
        "device = \"cuda\" if torch.cuda.is_available() else \"cpu\"\n",
        "device"
      ],
      "metadata": {
        "id": "WbbJ5sbOkfif"
      },
      "execution_count": null,
      "outputs": []
    },
    {
      "cell_type": "code",
      "source": [
        "# Count number of devices\n",
        "torch.cuda.device_count()"
      ],
      "metadata": {
        "id": "5gm-v-J5kfcU"
      },
      "execution_count": null,
      "outputs": []
    },
    {
      "cell_type": "code",
      "source": [
        "# Create tensor (default on CPU)\n",
        "tensor = torch.tensor([1, 2, 3])\n",
        "\n",
        "# Tensor not on GPU\n",
        "print(tensor, tensor.device)\n",
        "\n",
        "# Move tensor to GPU (if available)\n",
        "tensor_on_gpu = tensor.to(device)\n",
        "tensor_on_gpu"
      ],
      "metadata": {
        "id": "MZlaPcY5k3qU"
      },
      "execution_count": null,
      "outputs": []
    },
    {
      "cell_type": "markdown",
      "source": [
        "**Moving tensors back to the CPU**"
      ],
      "metadata": {
        "id": "cHXT5gOylXez"
      }
    },
    {
      "cell_type": "markdown",
      "source": [
        "What if we wanted to move the tensor back to CPU?\n",
        "\n",
        "For example, you'll want to do this if you want to interact with your tensors with NumPy (NumPy does not leverage the GPU).\n",
        "\n",
        "Let's try using the `torch.Tensor.numpy()` method on our tensor_on_gpu."
      ],
      "metadata": {
        "id": "FKJlrBUflb5Y"
      }
    },
    {
      "cell_type": "code",
      "source": [
        "# If tensor is on GPU, can't transform it to NumPy (this will error)\n",
        "tensor_on_gpu.numpy()"
      ],
      "metadata": {
        "id": "iB27xGC0lbgU"
      },
      "execution_count": null,
      "outputs": []
    },
    {
      "cell_type": "code",
      "source": [
        "# Instead, copy the tensor back to cpu\n",
        "tensor_back_on_cpu = tensor_on_gpu.cpu().numpy()\n",
        "tensor_back_on_cpu"
      ],
      "metadata": {
        "id": "baSgJ7QElYrl"
      },
      "execution_count": null,
      "outputs": []
    },
    {
      "cell_type": "markdown",
      "source": [
        "\n",
        "The above returns a copy of the GPU tensor in CPU memory so the original tensor is still on GPU."
      ],
      "metadata": {
        "id": "YKHqjrzxlute"
      }
    },
    {
      "cell_type": "code",
      "source": [
        "tensor_on_gpu"
      ],
      "metadata": {
        "id": "WMGh-yKKlpHS"
      },
      "execution_count": null,
      "outputs": []
    },
    {
      "cell_type": "code",
      "source": [],
      "metadata": {
        "id": "A4gJIoIQlx-p"
      },
      "execution_count": null,
      "outputs": []
    }
  ]
}